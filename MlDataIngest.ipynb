{
 "cells": [
  {
   "cell_type": "code",
   "execution_count": null,
   "metadata": {},
   "outputs": [],
   "source": [
    "from flask import Flask, jsonify, request\n",
    "import numpy as np\n",
    "import matplotlib.pyplot as plt\n",
    "import pandas as pd\n",
    "from sklearn.preprocessing import LabelEncoder, OneHotEncoder\n",
    "from sklearn.preprocessing import StandardScaler"
   ]
  },
  {
   "cell_type": "markdown",
   "metadata": {},
   "source": [
    "THis is pure text"
   ]
  },
  {
   "cell_type": "code",
   "execution_count": null,
   "metadata": {},
   "outputs": [],
   "source": [
    "app = Flask(__name__)\n",
    "@app.route('/dataselect', methods = ['GET'])\n",
    "def ingest():\n",
    "    independentVar = request.args.get('independent')\n",
    "    dependentVar = request.args.get('dependent')\n",
    "    if not dependentVar :\n",
    "        dependentVar = \"Nothing\"\n",
    "    message = \"I: \" + independentVar + \" D: \" + dependentVar\n",
    "    \n",
    "    \n",
    "    dataset = pd.read_csv('data/survey.csv')\n",
    "\n",
    "    # get rid of leading columns\n",
    "    dataset = dataset.iloc[1:,10:].values\n",
    "\n",
    "    #sample set\n",
    "    selString = \"2,1,3\"\n",
    "    selArray = selString.split(\",\")\n",
    "\n",
    "    #change to set of integers (no repeats) in reverse order\n",
    "    iSet = set()\n",
    "    for i in selArray:\n",
    "        iSet.add(int(i))\n",
    "    length = len(dataset[0])  \n",
    "    for i in reversed(range(0,length)):\n",
    "       if i not in iSet:\n",
    "        dataset = np.delete(dataset,i,1)\n",
    "\n",
    "    #change categorical data to 1/0 columns\n",
    "    labelencoder = LabelEncoder()\n",
    "    catFeatures = {}\n",
    "    for i in range(0, len(dataset[0])):\n",
    "        try:\n",
    "            #test to see if it is an integer\n",
    "            int(dataset[:,i][0])\n",
    "        # Not an integer\n",
    "        except ValueError:\n",
    "            #determine length\n",
    "            if( len(set(dataset[:,i])) > 2):                \n",
    "                dataset[:,i] = labelencoder.fit_transform(dataset[:,i])\n",
    "                catFeatures.update({i:len(set(dataset[:,i]))})\n",
    "\n",
    "            else:\n",
    "                dataset[:,i] = labelencoder.fit_transform(dataset[:,i]) \n",
    "\n",
    "    catFeaturesArray = []\n",
    "    for key, value in catFeatures.items():\n",
    "        catFeaturesArray.append(key)\n",
    "    onehotencoder = OneHotEncoder(categorical_features = catFeaturesArray)\n",
    "    dataset = onehotencoder.fit_transform(dataset).toarray()\n",
    "\n",
    "    #must delete one column for each categorical data set\n",
    "    delCol = 0\n",
    "    for key, value in catFeatures.items():\n",
    "        dataset = np.delete(dataset, delCol, 1)\n",
    "    #adjusts for the disappearing column from above\n",
    "    delCol += value -1\n",
    "\n",
    "    # Must scale the data\n",
    "    # Feature Scaling\n",
    "\n",
    "    sc = StandardScaler()\n",
    "    dataset = sc.fit_transform(dataset)\n",
    "\n",
    "    #save data\n",
    "    np.save('data/MachineLine2.npy', dataset)\n",
    "\n",
    "    datasetNew = np.load('data/MachineLine2.npy')\n",
    "\n",
    "    if( np.array_equal(dataset, datasetNew)):\n",
    "        message = \"Exact Copy\"\n",
    "    else:\n",
    "        message = \"Incorrect Data Copy\"\n",
    "            \n",
    "      \n",
    "    return message, 200\n",
    "    \n",
    "#Running the app\n",
    "\n",
    "print('starting server...')\n",
    "app.run(host = '0.0.0.0', port = 5000)"
   ]
  },
  {
   "cell_type": "code",
   "execution_count": null,
   "metadata": {},
   "outputs": [],
   "source": []
  },
  {
   "cell_type": "code",
   "execution_count": null,
   "metadata": {},
   "outputs": [],
   "source": [
    "dataset = pd.read_csv('data/survey.csv')\n",
    "\n",
    "# get rid of leading columns\n",
    "dataset = dataset.iloc[1:,10:].values\n",
    "print(\"Dataset len: \", len(dataset[0]))\n",
    "\n",
    "#sample set\n",
    "selString = \"2,1,3\"\n",
    "selArray = selString.split(\",\")\n",
    "\n",
    "#change to set of integers (no repeats) in reverse order\n",
    "iSet = set()\n",
    "for i in selArray:\n",
    "    iSet.add(int(i))\n",
    "length = len(dataset[0])  \n",
    "for i in reversed(range(0,length)):\n",
    "   if i not in iSet:\n",
    "    print(\"Deleting: \", i)\n",
    "    dataset = np.delete(dataset,i,1)\n",
    "   else:\n",
    "    print(\"Not deleting: \", i)\n",
    "print(\"LENGTH: \", len(dataset[0]))\n",
    "\n",
    "#change categorical data to 1/0 columns\n",
    "labelencoder = LabelEncoder()\n",
    "catFeatures = {}\n",
    "for i in range(0, len(dataset[0])):\n",
    "    try:\n",
    "        print( int(dataset[:,i][0]))\n",
    "    # Not an integer\n",
    "    except ValueError:\n",
    "        print(\"Not Integer\")\n",
    "        #determine length\n",
    "        if( len(set(dataset[:,i])) > 2):\n",
    "            #print(set(dataset[:,i]))\n",
    "            print(\"3 or more Array)\")\n",
    "            \n",
    "            print(dataset[:,i])\n",
    "            dataset[:,i] = labelencoder.fit_transform(dataset[:,i])\n",
    "            print(dataset[:,i])\n",
    "            catFeatures.update({i:len(set(dataset[:,i]))})\n",
    "\n",
    "        else:\n",
    "            print(\"2 element array\")\n",
    "            # Encoding categorical data\n",
    "\n",
    "            \n",
    "            print(dataset[:,i])\n",
    "            dataset[:,i] = labelencoder.fit_transform(dataset[:,i])\n",
    "            print(dataset[:,i])\n",
    " \n",
    "\n",
    "catFeaturesArray = []\n",
    "for key, value in catFeatures.items():\n",
    "    catFeaturesArray.append(key)\n",
    "onehotencoder = OneHotEncoder(categorical_features = catFeaturesArray)\n",
    "print(\"CatFeatures: \", catFeatures)\n",
    "dataset = onehotencoder.fit_transform(dataset).toarray()\n",
    "print(dataset)\n",
    "\n",
    "#must delete one column for each categorical data set\n",
    "delCol = 0\n",
    "for key, value in catFeatures.items():\n",
    "    print(\"Delete Column: \", delCol)\n",
    "    dataset = np.delete(dataset, delCol, 1)\n",
    "    #adjusts for the disappearing column from above\n",
    "    delCol += value -1\n",
    "print(dataset)\n",
    "\n",
    "# Must scale the data\n",
    "# Feature Scaling\n",
    "\n",
    "sc = StandardScaler()\n",
    "dataset = sc.fit_transform(dataset)\n",
    "print(dataset)\n",
    "\n",
    "#save data\n",
    "np.save('data/MachineLine2.npy', dataset)\n",
    "\n",
    "datasetNew = np.load('data/MachineLine2.npy')\n",
    "\n",
    "if( np.array_equal(dataset, datasetNew)):\n",
    "    print(\"Exact Copy\")\n",
    "            \n"
   ]
  },
  {
   "cell_type": "code",
   "execution_count": null,
   "metadata": {},
   "outputs": [],
   "source": [
    " \n",
    "import numpy as np\n",
    "import pandas as pd\n",
    "dataset = pd.read_csv('data/survey.csv')\n",
    "\n",
    "# get rid of leading columns\n",
    "dataset = dataset.iloc[1:,10:].values\n",
    "print(\"Dataset len: \", len(dataset[0]))\n",
    "\n",
    "selString = \"2,1,3\"\n",
    "selArray = selString.split(\",\")\n",
    "\n",
    "#change to set of integers (no repeats) in reverse order\n",
    "iSet = set()\n",
    "for i in selArray:\n",
    "    iSet.add(int(i))\n",
    "length = len(dataset[0])  \n",
    "for i in reversed(range(0,length)):\n",
    "   if i not in iSet:\n",
    "    print(\"Deleting: \", i)\n",
    "    dataset = np.delete(dataset,i,1)\n",
    "   else:\n",
    "    print(\"Not deleting: \", i)\n",
    "dataset"
   ]
  },
  {
   "cell_type": "code",
   "execution_count": null,
   "metadata": {},
   "outputs": [],
   "source": [
    "import numpy as np\n",
    "import pandas as pd\n",
    "dataset = pd.read_csv('data/survey.csv')\n",
    "\n",
    "# get rid of leading columns\n",
    "dataset = dataset.iloc[1:,10:].values\n",
    "print(\"Dataset len: \", len(dataset[0]))\n",
    "\n",
    "dataset2 = np.append((dataset[1,:] ,dataset[2:]),  1)\n",
    "dataset2"
   ]
  },
  {
   "cell_type": "code",
   "execution_count": null,
   "metadata": {},
   "outputs": [],
   "source": [
    "x = dataset[:,1]\n",
    "x\n"
   ]
  },
  {
   "cell_type": "code",
   "execution_count": null,
   "metadata": {},
   "outputs": [],
   "source": [
    "len(dataset[0])"
   ]
  },
  {
   "cell_type": "code",
   "execution_count": null,
   "metadata": {},
   "outputs": [],
   "source": [
    "np.delete(dataset,0,1)"
   ]
  },
  {
   "cell_type": "code",
   "execution_count": 7,
   "metadata": {},
   "outputs": [],
   "source": [
    "import Dataset as ds\n",
    "\n",
    "d = ds.Dataset()"
   ]
  },
  {
   "cell_type": "code",
   "execution_count": 8,
   "metadata": {},
   "outputs": [
    {
     "name": "stdout",
     "output_type": "stream",
     "text": [
      "LENGTH:  8\n"
     ]
    }
   ],
   "source": [
    "datas = d.dataSelection(selectionString = '0,1,2')\n"
   ]
  },
  {
   "cell_type": "code",
   "execution_count": 9,
   "metadata": {},
   "outputs": [
    {
     "data": {
      "text/plain": [
       "array([[-0.57735027,  0.37796447, -0.37796447,  1.        , -1.73205081,\n",
       "         1.21355975],\n",
       "       [-0.57735027,  0.37796447, -0.37796447,  1.        ,  0.57735027,\n",
       "         1.21355975],\n",
       "       [-0.57735027,  0.37796447, -0.37796447,  1.        ,  0.57735027,\n",
       "        -0.94387981],\n",
       "       [-0.57735027,  0.37796447, -0.37796447,  1.        ,  0.57735027,\n",
       "         1.21355975],\n",
       "       [-0.57735027,  0.37796447, -0.37796447, -1.        , -1.73205081,\n",
       "        -0.94387981],\n",
       "       [ 1.73205081,  0.37796447, -0.37796447, -1.        ,  0.57735027,\n",
       "        -0.94387981],\n",
       "       [-0.57735027, -2.64575131,  2.64575131, -1.        ,  0.57735027,\n",
       "        -0.94387981],\n",
       "       [ 1.73205081,  0.37796447, -0.37796447, -1.        ,  0.57735027,\n",
       "         0.13483997]])"
      ]
     },
     "execution_count": 9,
     "metadata": {},
     "output_type": "execute_result"
    }
   ],
   "source": [
    "datas"
   ]
  },
  {
   "cell_type": "code",
   "execution_count": null,
   "metadata": {},
   "outputs": [],
   "source": []
  }
 ],
 "metadata": {
  "kernelspec": {
   "display_name": "Python 3",
   "language": "python",
   "name": "python3"
  },
  "language_info": {
   "codemirror_mode": {
    "name": "ipython",
    "version": 3
   },
   "file_extension": ".py",
   "mimetype": "text/x-python",
   "name": "python",
   "nbconvert_exporter": "python",
   "pygments_lexer": "ipython3",
   "version": "3.5.2"
  }
 },
 "nbformat": 4,
 "nbformat_minor": 2
}
