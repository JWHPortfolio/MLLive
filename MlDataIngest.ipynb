{
 "cells": [
  {
   "cell_type": "code",
   "execution_count": 80,
   "metadata": {},
   "outputs": [],
   "source": [
    "from flask import Flask, jsonify, request\n",
    "import numpy as np\n",
    "import matplotlib.pyplot as plt\n",
    "import pandas as pd\n",
    "from sklearn.preprocessing import LabelEncoder, OneHotEncoder\n",
    "from sklearn.preprocessing import StandardScaler"
   ]
  },
  {
   "cell_type": "code",
   "execution_count": null,
   "metadata": {},
   "outputs": [
    {
     "name": "stderr",
     "output_type": "stream",
     "text": [
      " * Running on http://0.0.0.0:5000/ (Press CTRL+C to quit)\n"
     ]
    },
    {
     "name": "stdout",
     "output_type": "stream",
     "text": [
      "starting server...\n"
     ]
    },
    {
     "name": "stderr",
     "output_type": "stream",
     "text": [
      "192.168.2.50 - - [19/Dec/2018 23:44:50] \"\u001b[37mGET /dataselect?independent=1,2,3&dependent= HTTP/1.1\u001b[0m\" 200 -\n"
     ]
    }
   ],
   "source": [
    "app = Flask(__name__)\n",
    "@app.route('/dataselect', methods = ['GET'])\n",
    "def ingest():\n",
    "    independentVar = request.args.get('independent')\n",
    "    dependentVar = request.args.get('dependent')\n",
    "    if not dependentVar :\n",
    "        dependentVar = \"Nothing\"\n",
    "    message = \"I: \" + independentVar + \" D: \" + dependentVar\n",
    "    \n",
    "    \"\"\"\n",
    "    dataset = pd.read_csv('data/survey.csv')\n",
    "\n",
    "    # get rid of leading columns\n",
    "    dataset = dataset.iloc[1:,10:].values\n",
    "\n",
    "    #sample set\n",
    "    selString = \"2,1,3\"\n",
    "    selArray = selString.split(\",\")\n",
    "\n",
    "    #change to set of integers (no repeats) in reverse order\n",
    "    iSet = set()\n",
    "    for i in selArray:\n",
    "        iSet.add(int(i))\n",
    "    length = len(dataset[0])  \n",
    "    for i in reversed(range(0,length)):\n",
    "       if i not in iSet:\n",
    "        dataset = np.delete(dataset,i,1)\n",
    "\n",
    "    #change categorical data to 1/0 columns\n",
    "    labelencoder = LabelEncoder()\n",
    "    catFeatures = {}\n",
    "    for i in range(0, len(dataset[0])):\n",
    "        try:\n",
    "            #test to see if it is an integer\n",
    "            int(dataset[:,i][0])\n",
    "        # Not an integer\n",
    "        except ValueError:\n",
    "            #determine length\n",
    "            if( len(set(dataset[:,i])) > 2):                \n",
    "                dataset[:,i] = labelencoder.fit_transform(dataset[:,i])\n",
    "                catFeatures.update({i:len(set(dataset[:,i]))})\n",
    "\n",
    "            else:\n",
    "                dataset[:,i] = labelencoder.fit_transform(dataset[:,i]) \n",
    "\n",
    "    catFeaturesArray = []\n",
    "    for key, value in catFeatures.items():\n",
    "        catFeaturesArray.append(key)\n",
    "    onehotencoder = OneHotEncoder(categorical_features = catFeaturesArray)\n",
    "    dataset = onehotencoder.fit_transform(dataset).toarray()\n",
    "\n",
    "    #must delete one column for each categorical data set\n",
    "    delCol = 0\n",
    "    for key, value in catFeatures.items():\n",
    "        dataset = np.delete(dataset, delCol, 1)\n",
    "    #adjusts for the disappearing column from above\n",
    "    delCol += value -1\n",
    "\n",
    "    # Must scale the data\n",
    "    # Feature Scaling\n",
    "\n",
    "    sc = StandardScaler()\n",
    "    dataset = sc.fit_transform(dataset)\n",
    "\n",
    "    #save data\n",
    "    np.save('data/MachineLine2.npy', dataset)\n",
    "\n",
    "    datasetNew = np.load('data/MachineLine2.npy')\n",
    "\n",
    "    if( np.array_equal(dataset, datasetNew)):\n",
    "        message = \"Exact Copy\"\n",
    "    else:\n",
    "        message = \"Incorrect Data Copy\"\n",
    "            \n",
    "    \"\"\"   \n",
    "    return message, 200\n",
    "    \n",
    "#Running the app\n",
    "\n",
    "print('starting server...')\n",
    "app.run(host = '0.0.0.0', port = 5000)"
   ]
  },
  {
   "cell_type": "code",
   "execution_count": null,
   "metadata": {},
   "outputs": [],
   "source": []
  },
  {
   "cell_type": "code",
   "execution_count": 61,
   "metadata": {},
   "outputs": [
    {
     "name": "stdout",
     "output_type": "stream",
     "text": [
      "Dataset len:  15\n",
      "Deleting:  14\n",
      "Deleting:  13\n",
      "Deleting:  12\n",
      "Deleting:  11\n",
      "Deleting:  10\n",
      "Deleting:  9\n",
      "Deleting:  8\n",
      "Deleting:  7\n",
      "Deleting:  6\n",
      "Deleting:  5\n",
      "Deleting:  4\n",
      "Not deleting:  3\n",
      "Not deleting:  2\n",
      "Not deleting:  1\n",
      "Deleting:  0\n",
      "LENGTH:  3\n",
      "Not Integer\n",
      "2 element array\n",
      "['Cat Person' 'Dog Person' 'Dog Person' 'Dog Person' 'Cat Person'\n",
      " 'Dog Person' 'Dog Person' 'Dog Person']\n",
      "[0 1 1 1 0 1 1 1]\n",
      "Not Integer\n",
      "3 or more Array)\n",
      "['Windows' 'Windows' 'Linux' 'Windows' 'Linux' 'Linux' 'Linux' 'Mac']\n",
      "[2 2 0 2 0 0 0 1]\n",
      "Not Integer\n",
      "2 element array\n",
      "['With Others' 'Individual (On my own)' 'Individual (On my own)'\n",
      " 'Individual (On my own)' 'With Others' 'With Others'\n",
      " 'Individual (On my own)' 'With Others']\n",
      "[1 0 0 0 1 1 0 1]\n",
      "CatFeatures:  {1: 3}\n",
      "[[ 0.  0.  1.  0.  1.]\n",
      " [ 0.  0.  1.  1.  0.]\n",
      " [ 1.  0.  0.  1.  0.]\n",
      " [ 0.  0.  1.  1.  0.]\n",
      " [ 1.  0.  0.  0.  1.]\n",
      " [ 1.  0.  0.  1.  1.]\n",
      " [ 1.  0.  0.  1.  0.]\n",
      " [ 0.  1.  0.  1.  1.]]\n",
      "Delete Column:  0\n",
      "[[ 0.  1.  0.  1.]\n",
      " [ 0.  1.  1.  0.]\n",
      " [ 0.  0.  1.  0.]\n",
      " [ 0.  1.  1.  0.]\n",
      " [ 0.  0.  0.  1.]\n",
      " [ 0.  0.  1.  1.]\n",
      " [ 0.  0.  1.  0.]\n",
      " [ 1.  0.  1.  1.]]\n",
      "[[-0.37796447  1.29099445 -1.73205081  1.        ]\n",
      " [-0.37796447  1.29099445  0.57735027 -1.        ]\n",
      " [-0.37796447 -0.77459667  0.57735027 -1.        ]\n",
      " [-0.37796447  1.29099445  0.57735027 -1.        ]\n",
      " [-0.37796447 -0.77459667 -1.73205081  1.        ]\n",
      " [-0.37796447 -0.77459667  0.57735027  1.        ]\n",
      " [-0.37796447 -0.77459667  0.57735027 -1.        ]\n",
      " [ 2.64575131 -0.77459667  0.57735027  1.        ]]\n",
      "Exact Copy\n"
     ]
    }
   ],
   "source": [
    "dataset = pd.read_csv('data/survey.csv')\n",
    "\n",
    "# get rid of leading columns\n",
    "dataset = dataset.iloc[1:,10:].values\n",
    "print(\"Dataset len: \", len(dataset[0]))\n",
    "\n",
    "#sample set\n",
    "selString = \"2,1,3\"\n",
    "selArray = selString.split(\",\")\n",
    "\n",
    "#change to set of integers (no repeats) in reverse order\n",
    "iSet = set()\n",
    "for i in selArray:\n",
    "    iSet.add(int(i))\n",
    "length = len(dataset[0])  \n",
    "for i in reversed(range(0,length)):\n",
    "   if i not in iSet:\n",
    "    print(\"Deleting: \", i)\n",
    "    dataset = np.delete(dataset,i,1)\n",
    "   else:\n",
    "    print(\"Not deleting: \", i)\n",
    "print(\"LENGTH: \", len(dataset[0]))\n",
    "\n",
    "#change categorical data to 1/0 columns\n",
    "labelencoder = LabelEncoder()\n",
    "catFeatures = {}\n",
    "for i in range(0, len(dataset[0])):\n",
    "    try:\n",
    "        print( int(dataset[:,i][0]))\n",
    "    # Not an integer\n",
    "    except ValueError:\n",
    "        print(\"Not Integer\")\n",
    "        #determine length\n",
    "        if( len(set(dataset[:,i])) > 2):\n",
    "            #print(set(dataset[:,i]))\n",
    "            print(\"3 or more Array)\")\n",
    "            \n",
    "            print(dataset[:,i])\n",
    "            dataset[:,i] = labelencoder.fit_transform(dataset[:,i])\n",
    "            print(dataset[:,i])\n",
    "            catFeatures.update({i:len(set(dataset[:,i]))})\n",
    "\n",
    "        else:\n",
    "            print(\"2 element array\")\n",
    "            # Encoding categorical data\n",
    "\n",
    "            \n",
    "            print(dataset[:,i])\n",
    "            dataset[:,i] = labelencoder.fit_transform(dataset[:,i])\n",
    "            print(dataset[:,i])\n",
    " \n",
    "\n",
    "catFeaturesArray = []\n",
    "for key, value in catFeatures.items():\n",
    "    catFeaturesArray.append(key)\n",
    "onehotencoder = OneHotEncoder(categorical_features = catFeaturesArray)\n",
    "print(\"CatFeatures: \", catFeatures)\n",
    "dataset = onehotencoder.fit_transform(dataset).toarray()\n",
    "print(dataset)\n",
    "\n",
    "#must delete one column for each categorical data set\n",
    "delCol = 0\n",
    "for key, value in catFeatures.items():\n",
    "    print(\"Delete Column: \", delCol)\n",
    "    dataset = np.delete(dataset, delCol, 1)\n",
    "    #adjusts for the disappearing column from above\n",
    "    delCol += value -1\n",
    "print(dataset)\n",
    "\n",
    "# Must scale the data\n",
    "# Feature Scaling\n",
    "\n",
    "sc = StandardScaler()\n",
    "dataset = sc.fit_transform(dataset)\n",
    "print(dataset)\n",
    "\n",
    "#save data\n",
    "np.save('data/MachineLine2.npy', dataset)\n",
    "\n",
    "datasetNew = np.load('data/MachineLine2.npy')\n",
    "\n",
    "if( np.array_equal(dataset, datasetNew)):\n",
    "    print(\"Exact Copy\")\n",
    "            \n"
   ]
  },
  {
   "cell_type": "code",
   "execution_count": 55,
   "metadata": {},
   "outputs": [
    {
     "name": "stdout",
     "output_type": "stream",
     "text": [
      "Dataset len:  15\n",
      "Deleting:  14\n",
      "Deleting:  13\n",
      "Deleting:  12\n",
      "Deleting:  11\n",
      "Deleting:  10\n",
      "Deleting:  9\n",
      "Deleting:  8\n",
      "Deleting:  7\n",
      "Deleting:  6\n",
      "Deleting:  5\n",
      "Deleting:  4\n",
      "Not deleting:  3\n",
      "Not deleting:  2\n",
      "Not deleting:  1\n",
      "Deleting:  0\n"
     ]
    },
    {
     "data": {
      "text/plain": [
       "array([['Cat Person', 'Windows', 'With Others'],\n",
       "       ['Dog Person', 'Windows', 'Individual (On my own)'],\n",
       "       ['Dog Person', 'Linux', 'Individual (On my own)'],\n",
       "       ['Dog Person', 'Windows', 'Individual (On my own)'],\n",
       "       ['Cat Person', 'Linux', 'With Others'],\n",
       "       ['Dog Person', 'Linux', 'With Others'],\n",
       "       ['Dog Person', 'Linux', 'Individual (On my own)'],\n",
       "       ['Dog Person', 'Mac', 'With Others']], dtype=object)"
      ]
     },
     "execution_count": 55,
     "metadata": {},
     "output_type": "execute_result"
    }
   ],
   "source": [
    " \n",
    "import numpy as np\n",
    "import pandas as pd\n",
    "dataset = pd.read_csv('data/survey.csv')\n",
    "\n",
    "# get rid of leading columns\n",
    "dataset = dataset.iloc[1:,10:].values\n",
    "print(\"Dataset len: \", len(dataset[0]))\n",
    "\n",
    "selString = \"2,1,3\"\n",
    "selArray = selString.split(\",\")\n",
    "\n",
    "#change to set of integers (no repeats) in reverse order\n",
    "iSet = set()\n",
    "for i in selArray:\n",
    "    iSet.add(int(i))\n",
    "length = len(dataset[0])  \n",
    "for i in reversed(range(0,length)):\n",
    "   if i not in iSet:\n",
    "    print(\"Deleting: \", i)\n",
    "    dataset = np.delete(dataset,i,1)\n",
    "   else:\n",
    "    print(\"Not deleting: \", i)\n",
    "dataset"
   ]
  },
  {
   "cell_type": "code",
   "execution_count": 19,
   "metadata": {},
   "outputs": [
    {
     "name": "stdout",
     "output_type": "stream",
     "text": [
      "Dataset len:  15\n"
     ]
    },
    {
     "data": {
      "text/plain": [
       "array([ array(['Science Fiction', 'Dog Person', 'Windows',\n",
       "       'Individual (On my own)', 'Star Wars', 'No', 'Yes', 'No', '12', '0',\n",
       "       '0', '11', '2', 'No', '30 to 45 Years Old'], dtype=object),\n",
       "       array([['Science Fiction', 'Dog Person', 'Linux', 'Individual (On my own)',\n",
       "        'Star Trek', 'No', 'Yes', 'No', '3', '20', '16', '6', '8', 'Yes',\n",
       "        'Over 45 Years Old'],\n",
       "       ['Science Fiction', 'Dog Person', 'Windows',\n",
       "        'Individual (On my own)', 'Star Trek', 'Yes', 'Yes', 'Yes', '10',\n",
       "        '45', '2', '8', '15', 'No', '30 to 45 Years Old'],\n",
       "       ['Comedy', 'Cat Person', 'Linux', 'With Others', 'Star Trek', 'Yes',\n",
       "        'Yes', 'No', '30', '40', '5', '30', '5', 'No',\n",
       "        'Less than 30 Years Old'],\n",
       "       ['Adventure', 'Dog Person', 'Linux', 'With Others', 'Star Wars',\n",
       "        'Yes', 'Yes', 'Yes', '10', '10', '8', '12', '2', 'Yes',\n",
       "        'Over 45 Years Old'],\n",
       "       ['Romance', 'Dog Person', 'Linux', 'Individual (On my own)',\n",
       "        'Star Trek', 'Yes', 'No', 'Yes', '1', '40', '5', '6', '5', 'No',\n",
       "        'Over 45 Years Old'],\n",
       "       ['Adventure', 'Dog Person', 'Mac', 'With Others', 'Star Trek', 'No',\n",
       "        'Yes', 'No', '6', '1', '4', '3', '40', 'No', 'Over 45 Years Old']], dtype=object),\n",
       "       1], dtype=object)"
      ]
     },
     "execution_count": 19,
     "metadata": {},
     "output_type": "execute_result"
    }
   ],
   "source": [
    "import numpy as np\n",
    "import pandas as pd\n",
    "dataset = pd.read_csv('data/survey.csv')\n",
    "\n",
    "# get rid of leading columns\n",
    "dataset = dataset.iloc[1:,10:].values\n",
    "print(\"Dataset len: \", len(dataset[0]))\n",
    "\n",
    "dataset2 = np.append((dataset[1,:] ,dataset[2:]),  1)\n",
    "dataset2"
   ]
  },
  {
   "cell_type": "code",
   "execution_count": 27,
   "metadata": {},
   "outputs": [
    {
     "data": {
      "text/plain": [
       "array(['Cat Person', 'Dog Person', 'Dog Person', 'Dog Person',\n",
       "       'Cat Person', 'Dog Person', 'Dog Person', 'Dog Person'], dtype=object)"
      ]
     },
     "execution_count": 27,
     "metadata": {},
     "output_type": "execute_result"
    }
   ],
   "source": [
    "x = dataset[:,1]\n",
    "x\n"
   ]
  },
  {
   "cell_type": "code",
   "execution_count": 31,
   "metadata": {},
   "outputs": [
    {
     "data": {
      "text/plain": [
       "15"
      ]
     },
     "execution_count": 31,
     "metadata": {},
     "output_type": "execute_result"
    }
   ],
   "source": [
    "len(dataset[0])"
   ]
  },
  {
   "cell_type": "code",
   "execution_count": 30,
   "metadata": {},
   "outputs": [
    {
     "data": {
      "text/plain": [
       "array([['Cat Person', 'Windows', 'With Others', 'Star Trek', 'Yes', 'No',\n",
       "        'Yes', '4', '15', '1', '10', '2', 'No', '30 to 45 Years Old'],\n",
       "       ['Dog Person', 'Windows', 'Individual (On my own)', 'Star Wars',\n",
       "        'No', 'Yes', 'No', '12', '0', '0', '11', '2', 'No',\n",
       "        '30 to 45 Years Old'],\n",
       "       ['Dog Person', 'Linux', 'Individual (On my own)', 'Star Trek', 'No',\n",
       "        'Yes', 'No', '3', '20', '16', '6', '8', 'Yes', 'Over 45 Years Old'],\n",
       "       ['Dog Person', 'Windows', 'Individual (On my own)', 'Star Trek',\n",
       "        'Yes', 'Yes', 'Yes', '10', '45', '2', '8', '15', 'No',\n",
       "        '30 to 45 Years Old'],\n",
       "       ['Cat Person', 'Linux', 'With Others', 'Star Trek', 'Yes', 'Yes',\n",
       "        'No', '30', '40', '5', '30', '5', 'No', 'Less than 30 Years Old'],\n",
       "       ['Dog Person', 'Linux', 'With Others', 'Star Wars', 'Yes', 'Yes',\n",
       "        'Yes', '10', '10', '8', '12', '2', 'Yes', 'Over 45 Years Old'],\n",
       "       ['Dog Person', 'Linux', 'Individual (On my own)', 'Star Trek',\n",
       "        'Yes', 'No', 'Yes', '1', '40', '5', '6', '5', 'No',\n",
       "        'Over 45 Years Old'],\n",
       "       ['Dog Person', 'Mac', 'With Others', 'Star Trek', 'No', 'Yes', 'No',\n",
       "        '6', '1', '4', '3', '40', 'No', 'Over 45 Years Old']], dtype=object)"
      ]
     },
     "execution_count": 30,
     "metadata": {},
     "output_type": "execute_result"
    }
   ],
   "source": [
    "np.delete(dataset,0,1)"
   ]
  },
  {
   "cell_type": "code",
   "execution_count": null,
   "metadata": {},
   "outputs": [],
   "source": []
  }
 ],
 "metadata": {
  "kernelspec": {
   "display_name": "Python 3",
   "language": "python",
   "name": "python3"
  },
  "language_info": {
   "codemirror_mode": {
    "name": "ipython",
    "version": 3
   },
   "file_extension": ".py",
   "mimetype": "text/x-python",
   "name": "python",
   "nbconvert_exporter": "python",
   "pygments_lexer": "ipython3",
   "version": "3.6.3"
  }
 },
 "nbformat": 4,
 "nbformat_minor": 2
}
